{
 "cells": [
  {
   "cell_type": "code",
   "execution_count": 2,
   "metadata": {},
   "outputs": [
    {
     "name": "stdout",
     "output_type": "stream",
     "text": [
      "cuda is available\n",
      "NVIDIA GeForce RTX 3090\n",
      "cuda device count:  1\n",
      "torch version:  1.10.2+cu113\n",
      "cuda version:  11.3\n"
     ]
    }
   ],
   "source": [
    "import torch\n",
    "\n",
    "# 测试torch cuda 是否可用\n",
    "if torch.cuda.is_available():\n",
    "    print('cuda is available')\n",
    "    # device name\n",
    "    print(torch.cuda.get_device_name(0))\n",
    "    # cuda数量\n",
    "    if torch.cuda.device_count() != 0:\n",
    "        print('cuda device count: ', torch.cuda.device_count())\n",
    "    # torch 版本\n",
    "    print('torch version: ', torch.__version__)\n",
    "    # cuda 版本\n",
    "    print('cuda version: ', torch.version.cuda)\n",
    "else:\n",
    "    print('cuda is not available')"
   ]
  },
  {
   "cell_type": "code",
   "execution_count": 1,
   "metadata": {},
   "outputs": [
    {
     "name": "stderr",
     "output_type": "stream",
     "text": [
      "/home/yangdenghui/.local/lib/python3.8/site-packages/tqdm/auto.py:22: TqdmWarning: IProgress not found. Please update jupyter and ipywidgets. See https://ipywidgets.readthedocs.io/en/stable/user_install.html\n",
      "  from .autonotebook import tqdm as notebook_tqdm\n"
     ]
    },
    {
     "name": "stdout",
     "output_type": "stream",
     "text": [
      "cuda is available\n"
     ]
    }
   ],
   "source": [
    "import torch\n",
    "\n",
    "if torch.cuda.is_available() :\n",
    "    DEVICE = torch.device('cuda') \n",
    "    print('cuda is available')\n",
    "elif torch.device('cpu'):\n",
    "    print('cuda is not available')"
   ]
  }
 ],
 "metadata": {
  "kernelspec": {
   "display_name": "Python 3.6.13 ('torch_gpu')",
   "language": "python",
   "name": "python3"
  },
  "language_info": {
   "codemirror_mode": {
    "name": "ipython",
    "version": 3
   },
   "file_extension": ".py",
   "mimetype": "text/x-python",
   "name": "python",
   "nbconvert_exporter": "python",
   "pygments_lexer": "ipython3",
   "version": "3.8.13"
  },
  "orig_nbformat": 4,
  "vscode": {
   "interpreter": {
    "hash": "4fe1f61937acb79b5548765930822fb9fc3d6d74d039dc4f8196cdc51f0115ec"
   }
  }
 },
 "nbformat": 4,
 "nbformat_minor": 2
}
