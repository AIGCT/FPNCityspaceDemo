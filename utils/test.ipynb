{
 "cells": [
  {
   "cell_type": "code",
   "execution_count": 4,
   "metadata": {},
   "outputs": [
    {
     "name": "stdout",
     "output_type": "stream",
     "text": [
      "cuda is available\n",
      "NVIDIA GeForce RTX 3090\n",
      "torch version:  1.11.0+cu102\n",
      "cuda version:  10.2\n"
     ]
    }
   ],
   "source": [
    "import torch\n",
    "\n",
    "# 测试torch cuda 是否可用\n",
    "if torch.cuda.is_available():\n",
    "    print('cuda is available')\n",
    "    # device name\n",
    "    print(torch.cuda.get_device_name(0))\n",
    "    # cuda数量\n",
    "    if torch.cuda.device_count() > 1:\n",
    "        print('cuda device count > 1')\n",
    "    # torch 版本\n",
    "    print('torch version: ', torch.__version__)\n",
    "    # cuda 版本\n",
    "    print('cuda version: ', torch.version.cuda)\n",
    "else:\n",
    "    print('cuda is not available')"
   ]
  }
 ],
 "metadata": {
  "kernelspec": {
   "display_name": "Python 3.6.13 ('torch_gpu')",
   "language": "python",
   "name": "python3"
  },
  "language_info": {
   "codemirror_mode": {
    "name": "ipython",
    "version": 3
   },
   "file_extension": ".py",
   "mimetype": "text/x-python",
   "name": "python",
   "nbconvert_exporter": "python",
   "pygments_lexer": "ipython3",
   "version": "3.8.13"
  },
  "orig_nbformat": 4,
  "vscode": {
   "interpreter": {
    "hash": "4fe1f61937acb79b5548765930822fb9fc3d6d74d039dc4f8196cdc51f0115ec"
   }
  }
 },
 "nbformat": 4,
 "nbformat_minor": 2
}
